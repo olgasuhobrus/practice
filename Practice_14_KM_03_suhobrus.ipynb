{
  "nbformat": 4,
  "nbformat_minor": 0,
  "metadata": {
    "colab": {
      "name": "Practice_14_KM_01.ipynb",
      "provenance": [],
      "collapsed_sections": []
    },
    "kernelspec": {
      "name": "python3",
      "display_name": "Python 3.6.8 64-bit",
      "metadata": {
        "interpreter": {
          "hash": "10587ad69147cb11d90c4107b985a614f4ab91419cb6df62a3dc173c9cb01d0a"
        }
      }
    }
  },
  "cells": [
    {
      "cell_type": "markdown",
      "metadata": {
        "id": "FMqboNwO4rVs"
      },
      "source": [
        "# **Курс \"Програмування на мові Python\"**\n",
        "\n",
        "##### Викладачі:\n",
        "##### Борисенко Павло Борисович\n",
        "##### Щьоголєв Максим Олегович\n"
      ]
    },
    {
      "cell_type": "markdown",
      "metadata": {
        "id": "A2T6MigL5Z06"
      },
      "source": [
        "## **Практичне зайняття №14**\n",
        "\n",
        "### Тема: \"Робота з файлами\""
      ]
    },
    {
      "cell_type": "markdown",
      "metadata": {
        "id": "cfCdgK2zXm7e"
      },
      "source": [
        "### **Завдання 1 (1,5 бали)**\n",
        "\n",
        "У 1939 році друком вийшов роман американського письменика Ернеста Вінсента Райта \"Ґедсбі\". Особливу увагу публіки він здобув через те, що письменник жодного разу не використав у романі літеру \"e\" (роман складається з більше ніж 50,000 слів), яка є найбільш вживаною літерою в англійській мові.\n",
        "\n",
        "Порахуйте кількість входжень кожної літери у текст роману. Виведіть список літер англійського алфавіту, а також інформацію про те, скільки відсотків від усіх літер тексту складає кожна літера алфавіту.\n",
        "\n",
        "Зауваження:\n",
        "\n",
        "1. Програма має ігнорувати будь-які символи, окрім літер.\n",
        "\n",
        "2. Переведіть усі літери у верхній або у нижній регістр.\n",
        "\n",
        "3. Під час виведення відсортуйте літери у порядку зменшення їхнього відсотка. Літера \"e\" має стояти на останньому місці у цьому списку.\n",
        "\n",
        "4. Виведіть перші 5 та останні 5 літер відсортованого списку разом з відсотковими значеннями, що їм відповідають."
      ]
    },
    {
      "cell_type": "code",
      "metadata": {
        "tags": [],
        "id": "u4-fHJJ6U462"
      },
      "source": [
        "alphabet = ('A', 'B', 'C', 'D', 'E', 'F', 'G', 'H', 'I', 'J', 'K', 'L', 'M', 'N', 'O', 'P', 'Q', 'R', 'S', 'T', 'U', 'V', 'W', 'X', 'Y', 'Z')\n",
        "letters = {x:0 for x in alphabet}\n",
        "percent = {x:0 for x in alphabet}\n",
        "with open('gadsby.txt') as f:\n",
        "    txt = ''.join(f.readlines()).upper()\n",
        "for letter in txt:\n",
        "    if letter in alphabet:\n",
        "        letters[letter] += 1\n",
        "all_letters = sum(letters.values())\n",
        "for letter in percent.keys():\n",
        "    percent[letter] = (letters[letter] / all_letters) * 100\n",
        "printed_letters = {key: value for key, value in sorted(percent.items(), key=lambda item: item[1], reverse=True)}\n",
        "print('5 most used letters:\\n')\n",
        "counter = 0\n",
        "for x in printed_letters:\n",
        "    if counter == 5:\n",
        "        break\n",
        "    print(f\"{x}: {round(printed_letters[x], 3)}%\")\n",
        "    counter += 1\n",
        "print()\n",
        "print('5 least used letters:\\n')\n",
        "for x in printed_letters:\n",
        "    if counter == 29:\n",
        "        break\n",
        "    elif counter >= 23:\n",
        "        print(f'{x}: {round(printed_letters[x], 3)}%')\n",
        "    counter += 1\n",
        "print()\n",
        "print('All used letters:\\n')\n",
        "for x in printed_letters:\n",
        "    print(f'{x}: {round(printed_letters[x], 3)}%')"
      ],
      "execution_count": 37,
      "outputs": [
        {
          "output_type": "stream",
          "name": "stdout",
          "text": [
            "5 most used letters:\n\nA: 10.894%\nO: 10.371%\nI: 8.791%\nN: 8.561%\nT: 8.531%\n\n5 least used letters:\n\nP: 1.908%\nK: 1.168%\nV: 0.336%\nE: 0.234%\nJ: 0.225%\nZ: 0.107%\n\nAll used letters:\n\nA: 10.894%\nO: 10.371%\nI: 8.791%\nN: 8.561%\nT: 8.531%\nS: 6.956%\nL: 5.292%\nH: 4.916%\nR: 4.786%\nU: 4.131%\nD: 4.105%\nG: 3.569%\nY: 3.166%\nW: 2.787%\nC: 2.669%\nF: 2.149%\nB: 2.126%\nM: 2.089%\nP: 1.908%\nK: 1.168%\nV: 0.336%\nE: 0.234%\nJ: 0.225%\nZ: 0.107%\nX: 0.081%\nQ: 0.053%\n"
          ]
        }
      ]
    },
    {
      "cell_type": "markdown",
      "metadata": {
        "id": "A34oz70eU463"
      },
      "source": [
        "### **Завдання 2 (1,5 бали)**\n",
        "\n",
        "Створіть CSV-файл, що буде містити від 5 до 10 пісень (творів) вашого улюбленого музиканта. Назва файлу - ім'я музиканта (композитора) або назва гурту.\n",
        "\n",
        "1. Обов'язково додайте до файлу рядок з назвами двох колонок (Song, Year) або (Composition, Year).\n",
        "\n",
        "2. Після запису файлу роздрукуйте назву файлу та усі наявні у файлі рядки (включно із заголовками).\n",
        "\n",
        "3. Для запису та зчитування рядків скористайтесь функціями csv.DictWriter() та csv.DictReader()."
      ]
    },
    {
      "cell_type": "code",
      "metadata": {
        "id": "MEJIrG1GU463"
      },
      "source": [
        "import csv\n",
        "compositions = [{'Composition': 'The Night In Question', 'Year': '2018'}, {'Composition': 'Been On My Mind', 'Year': '2018'}, {'Composition': 'So Beautiful', 'Year': '2015'},{'Composition': 'Levels', 'Year': '2014'}, {'Composition': 'I Dont Even Care', 'Year': '2014'}]\n",
        "\n",
        "with open('RobertGlasper.csv', 'w', newline='') as file:\n",
        "    columns = ['Composition', 'Year']\n",
        "    writer = csv.DictWriter(file, fieldnames=columns)\n",
        "    writer.writeheader()\n",
        "    for i in songs:\n",
        "        writer.writerow(i)\n",
        "f = open('RobertGlasper.csv', 'r')\n",
        "with f:\n",
        "    reader = csv.DictReader(f)\n",
        "    print(*list(reader.fieldnames))\n",
        "    for row in reader:\n",
        "        print(dict(row))"
      ],
      "execution_count": 56,
      "outputs": [
        {
          "output_type": "stream",
          "name": "stdout",
          "text": [
            "Composition Year\n{'Composition': 'The Night In Question', 'Year': '2018'}\n{'Composition': 'Been On My Mind', 'Year': '2018'}\n{'Composition': 'So Beautiful', 'Year': '2015'}\n{'Composition': 'Levels', 'Year': '2014'}\n{'Composition': 'I Dont Even Care', 'Year': '2014'}\n"
          ]
        }
      ]
    },
    {
      "cell_type": "markdown",
      "metadata": {
        "id": "Jb-eSBsWU464"
      },
      "source": [
        "### **Завдання 3 (бонусне, 1 бал)**\n",
        "\n",
        "COCO Dataset - набір фотографій та анотацій до них. Його дуже часто використовують для тренування класифікаторів, призначених для розпізнавання об'єктів та визначення ключових точок на зображеннях.\n",
        "\n",
        "Завантажте файли з описом фотографій COCO Dataset за посиланням: http://images.cocodataset.org/annotations/image_info_test2017.zip\n",
        "\n",
        "1. Відкрийте файл image_info_test-dev2017.json. Інформація про фотографії з бази COCO міститься у полі \"images\". Інформація про категорії, на які розділені всі фотографії, міститься у полі \"categories\".\n",
        "\n",
        "2. Визначте кількість фотографій, інформацію про які можна знайти у цьому файлі (кількість елементів, що відповідають ключу \"images\").\n",
        "\n",
        "3. Визначте кількість наявних категорій (кількість елементів, що відповідають ключу \"categories\").\n",
        "\n",
        "4. Виведіть посилання на фотографію 000000000001.jpg (\"coco_url\"), висоту цієї фотографії (\"height\"), ширину (\"width\") та її ідентифікатор (\"id\").\n",
        "\n",
        "5. Опис структури JSON-файлу для набору фотографій COCO можна знайти за посиланням: https://cocodataset.org/#format-data\n",
        "\n",
        "6. Щоб перевірити правильність результатів, у VS Code встановіть розширення JSON та відкрийте файл image_info_test-dev2017.json. Розширення автоматично визначає кількість елементів у кожному полі."
      ]
    },
    {
      "cell_type": "code",
      "metadata": {
        "id": "74C6WKB_U464"
      },
      "source": [],
      "execution_count": null,
      "outputs": []
    }
  ]
}