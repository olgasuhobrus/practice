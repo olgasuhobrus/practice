{
  "nbformat": 4,
  "nbformat_minor": 0,
  "metadata": {
    "colab": {
      "name": "Practice_7_KM-01_.ipynb",
      "provenance": [],
      "collapsed_sections": []
    },
    "kernelspec": {
      "name": "Python 3.6.8 64-bit",
      "display_name": "Python 3.6.8 64-bit",
      "metadata": {
        "interpreter": {
          "hash": "10587ad69147cb11d90c4107b985a614f4ab91419cb6df62a3dc173c9cb01d0a"
        }
      }
    }
  },
  "cells": [
    {
      "cell_type": "markdown",
      "metadata": {
        "id": "FMqboNwO4rVs"
      },
      "source": [
        "# **Курс \"Програмування на мові Python\"**\n",
        "\n",
        "##### Викладачі:\n",
        "##### Борисенко Павло Борисович\n",
        "##### Щьоголєв Максим Олегович\n"
      ]
    },
    {
      "cell_type": "markdown",
      "metadata": {
        "id": "A2T6MigL5Z06"
      },
      "source": [
        "## **Практичне зайняття №7**\n",
        "\n",
        "### Тема: \"Перевірка даних. Робота з виключеннями. Регулярні вирази\""
      ]
    },
    {
      "cell_type": "markdown",
      "metadata": {
        "id": "cfCdgK2zXm7e"
      },
      "source": [
        "### **Завдання 1 (1,5 бали)**\n",
        "\n",
        "Переробити завдання №1 практичної роботи №6 з використанням регулярних виразів.\n",
        "\n",
        "1. Створити шаблон регулярного виразу.\n",
        "\n",
        "2. За допомогою функції compile() створити об'єкт регулярного виразу.\n",
        "\n",
        "3. Всі інші вимоги залишаються такими ж, як і в оригінальному завданні."
      ]
    },
    {
      "cell_type": "code",
      "metadata": {
        "id": "ifNX2M7LXm7f"
      },
      "source": [
        "pose_estimation = \"[BodyPart:0-(0.55, 0.17) score=0.81 BodyPart:1-(0.49, 0.27) score=0.85 BodyPart:2-(0.41, 0.26) score=0.67 BodyPart:3-(0.33, 0.37) score=0.72 BodyPart:4-(0.36, 0.48) score=0.78 BodyPart:5-(0.58, 0.27) score=0.81 BodyPart:6-(0.65, 0.38) score=0.88 BodyPart:7-(0.62, 0.48) score=0.86 BodyPart:8-(0.43, 0.48) score=0.60 BodyPart:9-(0.43, 0.66) score=0.67 BodyPart:10-(0.53, 0.79) score=0.56 BodyPart:11-(0.53, 0.48) score=0.56 BodyPart:12-(0.59, 0.66) score=0.75 BodyPart:13-(0.49, 0.80) score=0.50 BodyPart:14-(0.54, 0.15) score=0.73 BodyPart:15-(0.56, 0.15) score=0.85 BodyPart:16-(0.48, 0.16) score=0.81 BodyPart:17-(0.83, 0.18) score=0.79]\"\n",
        "import re\n",
        "the_floats = '\\d+\\.\\d+'\n",
        "datasample = re.findall(the_floats,pose_estimation)\n",
        "import copy\n",
        "p = copy.deepcopy(datasample)\n",
        "s = p[2::3]\n",
        "del p[2::3]\n",
        "points = []\n",
        "for item in p:\n",
        "  points.append(float(item))\n",
        "scores = []\n",
        "for item in s:\n",
        "  scores.append(float(item))\n",
        "print(points)\n",
        "print(scores)"
      ],
      "execution_count": 206,
      "outputs": [
        {
          "output_type": "stream",
          "name": "stdout",
          "text": [
            "[0.55, 0.17, 0.49, 0.27, 0.41, 0.26, 0.33, 0.37, 0.36, 0.48, 0.58, 0.27, 0.65, 0.38, 0.62, 0.48, 0.43, 0.48, 0.43, 0.66, 0.53, 0.79, 0.53, 0.48, 0.59, 0.66, 0.49, 0.8, 0.54, 0.15, 0.56, 0.15, 0.48, 0.16, 0.83, 0.18]\n[0.81, 0.85, 0.67, 0.72, 0.78, 0.81, 0.88, 0.86, 0.6, 0.67, 0.56, 0.56, 0.75, 0.5, 0.73, 0.85, 0.81, 0.79]\n"
          ]
        }
      ]
    },
    {
      "cell_type": "markdown",
      "metadata": {
        "id": "M1Sg0vXJXm7n"
      },
      "source": [
        "### **Завдання 2 (1,5 бали)**\n",
        "\n",
        "Написати програму підрахунку коренів квадратного рівняння без попередніх перевірок.\n",
        "\n",
        "1. Користувач має вводити коефіцієнти a, b та c з клавіатури.\n",
        "\n",
        "2. Програма має обробляти помилки ділення на 0, кореня від'ємного числа та інші, а також виводити відповідні повідомлення у разі виникнення таких помилок.\n",
        "\n",
        "3. Якщо рівняння не має коренів, программа має генерувати помилку за допомогою ключового слова raise, а потім обробляти її.\n",
        "\n",
        "4. Правильно написана програма при виникненні різних помилок має виводити текст помилки, а також різні повідомлення про те, в чому суть цих помилок. Необроблених помилок бути не повинно."
      ]
    },
    {
      "cell_type": "code",
      "metadata": {
        "id": "co7fcAuvXm7o"
      },
      "source": [
        "\n",
        "try:\n",
        "    while True:\n",
        "            try:\n",
        "                a = float(input(\"Enter coefficient a of an equation ax^2 + bx + c = 0:\"))\n",
        "                break\n",
        "            except ValueError as typ:\n",
        "                print(typ)\n",
        "                print(\"All coefficients must be numbers. Try again\")\n",
        "    while True:\n",
        "            try:\n",
        "                b = float(input(\"Enter coefficient b of an equation ax^2 + bx + c = 0:\"))\n",
        "                break\n",
        "            except ValueError as typ:\n",
        "                print(typ)\n",
        "                print(\"All coefficients must be numbers. Try again\")\n",
        "    while True:\n",
        "            try:\n",
        "                c = float(input(\"Enter coefficient c of an equation ax^2 + bx + c = 0:\"))\n",
        "                break\n",
        "            except ValueError as typ:\n",
        "                print(typ)\n",
        "                print(\"All coefficients must be numbers. Try again\")\n",
        "    import math\n",
        "    discriminant = ((b**2) - (4 *a*c))\n",
        "    sqrt_dis = math.sqrt(discriminant)\n",
        "    if discriminant < 0:\n",
        "        raise ValueError\n",
        "    root1 = round((-b - sqrt_dis)/(2 * a), 2)  \n",
        "    root2 = round((-b + sqrt_dis)/(2 * a), 2)\n",
        "    results = (root1, root2)\n",
        "    if root1 == root2:\n",
        "        print(\"The root is\", root1)\n",
        "    else:\n",
        "        print(\"Roots are %r and %r\" %results)\n",
        "except ZeroDivisionError as zero:\n",
        "    print(zero)\n",
        "    print(\"Please, no linear equations here: coefficent 'a' must not equal 0!\")\n",
        "except ValueError as val:\n",
        "    print(val)\n",
        "    print(\"The equation has no real roots. Discriminant =\", discriminant)\n",
        "except Exception as ex:\n",
        "    print(ex)\n",
        "    print (\"Something unexpected happened\")\n"
      ],
      "execution_count": 207,
      "outputs": [
        {
          "output_type": "stream",
          "name": "stdout",
          "text": [
            "could not convert string to float: 'f'\n",
            "All coefficients must be numbers. Try again\n",
            "math domain error\n",
            "The equation has no real roots. Discriminant = -3.0\n"
          ]
        }
      ]
    },
    {
      "cell_type": "code",
      "execution_count": null,
      "metadata": {},
      "outputs": [],
      "source": []
    }
  ]
}