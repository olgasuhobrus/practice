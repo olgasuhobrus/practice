{
  "nbformat": 4,
  "nbformat_minor": 0,
  "metadata": {
    "colab": {
      "name": "Pranctice_3_KM-01_<name>.ipynb",
      "provenance": [],
      "collapsed_sections": []
    },
    "kernelspec": {
      "name": "Python 3.6.8 64-bit",
      "display_name": "Python 3.6.8 64-bit",
      "metadata": {
        "interpreter": {
          "hash": "10587ad69147cb11d90c4107b985a614f4ab91419cb6df62a3dc173c9cb01d0a"
        }
      }
    }
  },
  "cells": [
    {
      "cell_type": "markdown",
      "metadata": {
        "id": "1bRxWHr5e8kt"
      },
      "source": [
        "# **Курс \"Програмування на мові Python\"**\n",
        "\n",
        "##### Викладачі:\n",
        "##### Борисенко Павло Борисович\n",
        "##### Щьоголєв Максим Олегович"
      ]
    },
    {
      "cell_type": "markdown",
      "metadata": {
        "id": "buZUwUgFe-kx"
      },
      "source": [
        "## **Практичне зайняття №3**\n",
        "### Тема: \"Перші програми на Python. Введення та виведення даних. Інструкція if\""
      ]
    },
    {
      "source": [
        "### **Завдання 1 (1,5 бали)**\n",
        "\n",
        "\n"
      ],
      "cell_type": "code",
      "metadata": {
        "id": "PUkxEn8EfAUe"
      },
      "execution_count": null,
      "outputs": []
    },
    {
      "cell_type": "markdown",
      "metadata": {
        "id": "M7jjwxAvfKa2"
      },
      "source": [
        "**Написати програму введення та виведення даних про одержувача листа (посилки) за стандартами Укрпошти.**\n",
        "\n",
        "1. Усі запити на введення даних повинні супроводжуватись відповідними підказками-поясненнями (бажано англійською мовою).\n",
        "\n",
        "2. Дані мають виводитись так, як показано нижче (з урахуванням кількості рядків та послідовності даних у кожному з них).\n",
        "\n",
        "3. Дані, виділені жирним шрифтом, повинні вводитись із клавіатури. Всього має бути 9 окремих команд введення даних\n",
        "\n",
        "4. Назви змінних повинні бути інформативними та оформленими відповідно до правил іменування змінних\n",
        "\n",
        "5. Додати 2 коментарі, що вказують на блоки введення та виведення даних.\n",
        "\n",
        "***Формат виведення даних:***\n",
        "\n",
        "(1) **Ім'я** (2) **Прізвище**\n",
        "\n",
        "(3) **Номер телефону**\n",
        "\n",
        "Str. (4) **Назва вулиці** (5) **Номер будинку**, ap. (6) **Номер квартири**, (7) **Місто**\n",
        "\n",
        "(8) **Індекс**\n",
        "\n",
        "(9) **Країна**"
      ]
    },
    {
      "source": [
        "# Input data\n",
        "name = input(\"Enter your name: \")\n",
        "surname = input(\"Enter your surname: \")\n",
        "tel = input(\"Enter your telephone number: \")\n",
        "street = input(\"Enter your street name: \")\n",
        "building = input(\"Enter your building number: \")\n",
        "apartment = input(\"Enter number of your apartment: \")\n",
        "city = input(\"Enter your city: \")\n",
        "postcode = input(\"Enter your postcode: \")\n",
        "country = input(\"Enter your country: \")\n",
        "# Output data\n",
        "print(\"Mail to:\")\n",
        "print(name, surname)\n",
        "print(tel)\n",
        "print(\"Str. \"+ street+ \", \"+ building+ \", \"+ apartment+ \" ap., \"+ city)\n",
        "print(postcode)\n",
        "print(country)"
      ],
      "cell_type": "code",
      "metadata": {
        "id": "hEJG5C3_fJk9"
      },
      "execution_count": null,
      "outputs": []
    },
    {
      "source": [
        "### **Завдання 2 (1,5 бали)**"
      ],
      "cell_type": "code",
      "metadata": {
        "id": "WmnpKrmPf689"
      },
      "execution_count": null,
      "outputs": []
    },
    {
      "cell_type": "markdown",
      "metadata": {
        "id": "4n4p_pz7gFKM"
      },
      "source": [
        "Відповідно до чинної системи оцінювання в КПІ, рейтингові бали R студентів переводяться в оцінки за такою таблицею:\n",
        "\n",
        "R | Grade\n",
        "--- | ---\n",
        "95 - 100 | Excellent\n",
        "85 - 94 | Very good\n",
        "75 - 84 | Good\n",
        "65 - 74 | Satisfactory\n",
        "60 - 64 | Marginal\n",
        "0 - 59 | Unsatisfactory\n",
        "\n",
        "Напишіть програму, яка буде зчитувати рейтинговий бал R, введений користувачем, та виводити відповідну оцінку як частину змістовного повідомлення. Наприклад, якщо користувач вводить рейтинговий бал R 78, ваша програма повинна показати оцінку Good. Програма також повинна виводити повідомлення про помилку, якщо користувач введе від'ємне число або число, більше за 100."
      ]
    },
    {
      "cell_type": "code",
      "execution_count": null,
      "metadata": {},
      "outputs": [],
      "source": [
        "while True:\n",
        "    try:\n",
        "        r = int(input(\"Please enter your score: \",))\n",
        "        print(r)\n",
        "        if r <=100 and r >= 95:\n",
        "            print(\"Your grade is: Excellent.\")\n",
        "        elif r < 95 and r >= 85:\n",
        "            print(\"Your grade is: Very good.\")\n",
        "        elif r < 85 and r >= 75:\n",
        "            print(\"Your grade is: Good.\")\n",
        "        elif r < 75 and r >= 65:\n",
        "            print(\"Your grade is: Satisfactory.\")\n",
        "        elif r < 65 and r >= 60:\n",
        "            print(\"Your grade is: Marginal.\")\n",
        "        elif r < 60 and r >= 0:\n",
        "            print(\"Your grade is: Unsatisfactory.\")\n",
        "        else:\n",
        "            print(\"Invalid value.\")\n",
        "    except Exception:\n",
        "        print(\"Why not enter your frikin score pleas damit\")\n",
        "        continue\n",
        "    print(\"Press 0 to exit, or any key to continue\")\n",
        "    a = input()\n",
        "    if a == \"0\":\n",
        "        break"
      ]
    },
    {
      "source": [
        "### **Завдання 3 (бонусне, 1 бал)**"
      ],
      "cell_type": "code",
      "metadata": {
        "id": "X8fC_GM_nMRi"
      },
      "execution_count": null,
      "outputs": []
    },
    {
      "cell_type": "markdown",
      "metadata": {
        "id": "b593txPwotgN"
      },
      "source": [
        "Мобільний оператор розробив тарифний план, згідно з яким, сплачуючи 100 грн. на місяць, абонент може спілкуватись 50 хвилин з абонентами інших мобільних операторів впродовж цього місяця. У разі перевищення ліміту абоненту надаються ще 50 хвилин до кінця місяця за 50 грн. Якщо ж і цей ліміт було перевищено, абонент сплачуватиме 2 грн. за кожну додаткову хвилину розмов до кінця поточного місяця.\n",
        "\n",
        "Напишіть програму, що підраховує суму коштів, яку доведеться сплатити абоненту за місяць, на основі тривалості його розмов з абонентами інших мобільних операторів (у хвилинах), введеної користувачем з клавіатури. Ваша програма також повинна виводити повідомлення про помилку, якщо користувач введе від'ємне число."
      ]
    },
    {
      "cell_type": "code",
      "metadata": {
        "id": "PA_E_H0Zosu0"
      },
      "source": [
        "while True:\n",
        "    try:\n",
        "        minutes = int(input(\"Duration of calls to other operators: \"))\n",
        "        if minutes >= 0 and minutes <= 50:\n",
        "            cost = 100\n",
        "            print(\"This month you wasted: \",cost, \" hrivnas\")\n",
        "        elif minutes >50 and minutes <=100:\n",
        "            cost = 150\n",
        "            print(\"This month you wasted: \",cost,\" hrivnas\")\n",
        "        elif minutes >100:\n",
        "            cost = (minutes - 100)*2 + 150\n",
        "            print(\"This month you wasted: \",cost,\" hrivnas\")\n",
        "        else:\n",
        "            print(\"Invalid input\")\n",
        "    except ValueError:\n",
        "            print(\"Really? Try again\")\n",
        "            continue\n",
        "    print(\"Press 0 to exit, or any key to continue\")\n",
        "    a = input()\n",
        "    if a == \"0\":\n",
        "        break\n",
        "\n"
      ],
      "execution_count": null,
      "outputs": []
    },
    {
      "cell_type": "code",
      "execution_count": null,
      "metadata": {},
      "outputs": [],
      "source": []
    }
  ]
}