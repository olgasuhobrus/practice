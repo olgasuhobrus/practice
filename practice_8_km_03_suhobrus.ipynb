{
  "nbformat": 4,
  "nbformat_minor": 0,
  "metadata": {
    "colab": {
      "name": "Practice_7_KM-01_.ipynb",
      "provenance": [],
      "collapsed_sections": []
    },
    "kernelspec": {
      "name": "Python 3.6.8 64-bit",
      "display_name": "Python 3.6.8 64-bit",
      "metadata": {
        "interpreter": {
          "hash": "10587ad69147cb11d90c4107b985a614f4ab91419cb6df62a3dc173c9cb01d0a"
        }
      }
    }
  },
  "cells": [
    {
      "cell_type": "markdown",
      "metadata": {
        "id": "FMqboNwO4rVs"
      },
      "source": [
        "# **Курс \"Програмування на мові Python\"**\n",
        "\n",
        "##### Викладачі:\n",
        "##### Борисенко Павло Борисович\n",
        "##### Щьоголєв Максим Олегович\n"
      ]
    },
    {
      "cell_type": "markdown",
      "metadata": {
        "id": "A2T6MigL5Z06"
      },
      "source": [
        "## **Практичне зайняття №8**\n",
        "\n",
        "### Тема: \"Робота з функціями. Локальні та глобальні змінні\""
      ]
    },
    {
      "cell_type": "markdown",
      "metadata": {
        "id": "cfCdgK2zXm7e"
      },
      "source": [
        "### **Завдання 1 (3 бали)**\n",
        "\n",
        "**Підрахувати визначник матриці, використовуючи перестановки та символ Леві-Чивіти.**\n",
        "\n",
        "Функція random_matrix() призначена для створення квадратної матриці випадкових чисел. Її змінювати непотрібно.\n",
        "\n",
        "Приклад використання методу permutations() для створення списку перестановок також подається у комірці з кодом.\n",
        "\n",
        "1) Створити 3 функції: функцію створення списку перестановок, функцію підрахунку добутків та функцію підрахунку загальної суми.\n",
        "\n",
        "2) Кожна функція має супроводжуватись рядком документації, що буде коротко описувати її призначення.\n",
        "\n",
        "3) Розмірність квадратної матриці має вводитись користувачем з клавіатури. Підрахунки виконувати лише в тому разі, якщо користувач введе ціле додатне число.\n",
        "\n",
        "4) Загальний результат повинен підраховуватись за допомогою композиції функцій.\n",
        "\n",
        "За бажання можна перевірити правильність роботи програми за допомогою функції np.linalg.det(a)."
      ]
    },
    {
      "cell_type": "code",
      "metadata": {
        "id": "ifNX2M7LXm7f",
        "tags": []
      },
      "source": [
        "import numpy as np\n",
        "import itertools\n",
        "while True:\n",
        "    try:\n",
        "        dim = int(input(\"Enter dim\"))\n",
        "        if dim > 0:\n",
        "            break\n",
        "    except ValueError:\n",
        "        print('Enter an ineger please')\n",
        "        pass\n",
        "\n",
        "def random_matrix(dim):\n",
        "\n",
        "    \"\"\"\n",
        "    The function generates dim x dim array of integers\n",
        "    between 0 and 10.\n",
        "    \"\"\"\n",
        "    global matrix\n",
        "    matrix = np.random.randint(10, size = (dim, dim))\n",
        "    global determinant\n",
        "    determinant = round(np.linalg.det(matrix), 2)\n",
        "    return matrix\n",
        "    \n",
        "\n",
        "def matrix_perm(x):\n",
        "    \"\"\"\n",
        "    The function saves all possible permutations of matrix elements to a list\n",
        "    \"\"\"\n",
        "    x = matrix\n",
        "    global y\n",
        "    y = x.flatten(order= 'K')\n",
        "    global t\n",
        "    t = list(itertools.permutations(y, dim))\n",
        "    return t\n",
        "\n",
        "\n",
        "def perm_products(t):\n",
        "\n",
        "    \"\"\"\n",
        "    Iteration to multiply every permutations from random_matrix(dim) \n",
        "    and save multiplied elements to a new list\n",
        "    \"\"\"\n",
        "    output = []\n",
        "    for elem in t:\n",
        "        temp = np.prod(elem)\n",
        "        output.append(temp)\n",
        "    return output\n",
        "\n",
        "# def det():\n",
        "    #WASTED\n",
        "\n",
        "print(random_matrix(dim))\n",
        "print(matrix_perm(x))\n",
        "print(perm_products(t))\n",
        "\n",
        "print(determinant)\n"
      ],
      "execution_count": 283,
      "outputs": [
        {
          "output_type": "stream",
          "name": "stdout",
          "text": [
            "[[4 9]\n [5 2]]\n[(4, 9), (4, 5), (4, 2), (9, 4), (9, 5), (9, 2), (5, 4), (5, 9), (5, 2), (2, 4), (2, 9), (2, 5)]\n[36, 20, 8, 36, 45, 18, 20, 45, 10, 8, 18, 10]\n-37.0\n"
          ]
        }
      ]
    },
    {
      "cell_type": "code",
      "execution_count": null,
      "metadata": {},
      "outputs": [],
      "source": []
    }
  ]
}